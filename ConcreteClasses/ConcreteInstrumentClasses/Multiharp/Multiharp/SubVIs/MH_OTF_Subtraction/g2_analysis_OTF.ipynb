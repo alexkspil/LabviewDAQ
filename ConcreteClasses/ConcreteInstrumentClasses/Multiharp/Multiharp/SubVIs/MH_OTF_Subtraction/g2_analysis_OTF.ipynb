{
 "cells": [
  {
   "cell_type": "code",
   "execution_count": 2,
   "metadata": {},
   "outputs": [],
   "source": [
    "import numpy as np\n",
    "import matplotlib.pyplot as plt\n",
    "import pandas as pd"
   ]
  },
  {
   "cell_type": "code",
   "execution_count": 15,
   "metadata": {},
   "outputs": [],
   "source": [
    "csv = pd.read_csv(\"C:\\\\Users\\\\quantum\\\\Downloads\\\\SinglePhotonInterferometryUI-master\\\\SubVIs\\MH_OTF_Subtraction\\\\data (50).csv\")\n",
    "csv.columns=[\"Channel\",\"Real Time(ns)\"]"
   ]
  },
  {
   "cell_type": "code",
   "execution_count": 16,
   "metadata": {},
   "outputs": [
    {
     "data": {
      "text/html": [
       "<div>\n",
       "<style scoped>\n",
       "    .dataframe tbody tr th:only-of-type {\n",
       "        vertical-align: middle;\n",
       "    }\n",
       "\n",
       "    .dataframe tbody tr th {\n",
       "        vertical-align: top;\n",
       "    }\n",
       "\n",
       "    .dataframe thead th {\n",
       "        text-align: right;\n",
       "    }\n",
       "</style>\n",
       "<table border=\"1\" class=\"dataframe\">\n",
       "  <thead>\n",
       "    <tr style=\"text-align: right;\">\n",
       "      <th></th>\n",
       "      <th>Channel</th>\n",
       "      <th>Real Time(ns)</th>\n",
       "    </tr>\n",
       "  </thead>\n",
       "  <tbody>\n",
       "    <tr>\n",
       "      <th>0</th>\n",
       "      <td>1.0</td>\n",
       "      <td>21622.32</td>\n",
       "    </tr>\n",
       "    <tr>\n",
       "      <th>1</th>\n",
       "      <td>1.0</td>\n",
       "      <td>21681.91</td>\n",
       "    </tr>\n",
       "    <tr>\n",
       "      <th>2</th>\n",
       "      <td>1.0</td>\n",
       "      <td>21829.40</td>\n",
       "    </tr>\n",
       "    <tr>\n",
       "      <th>3</th>\n",
       "      <td>1.0</td>\n",
       "      <td>21889.66</td>\n",
       "    </tr>\n",
       "    <tr>\n",
       "      <th>4</th>\n",
       "      <td>1.0</td>\n",
       "      <td>32172.16</td>\n",
       "    </tr>\n",
       "    <tr>\n",
       "      <th>...</th>\n",
       "      <td>...</td>\n",
       "      <td>...</td>\n",
       "    </tr>\n",
       "    <tr>\n",
       "      <th>91946</th>\n",
       "      <td>1.0</td>\n",
       "      <td>312485.84</td>\n",
       "    </tr>\n",
       "    <tr>\n",
       "      <th>91947</th>\n",
       "      <td>1.0</td>\n",
       "      <td>353710.82</td>\n",
       "    </tr>\n",
       "    <tr>\n",
       "      <th>91948</th>\n",
       "      <td>0.0</td>\n",
       "      <td>41072.64</td>\n",
       "    </tr>\n",
       "    <tr>\n",
       "      <th>91949</th>\n",
       "      <td>1.0</td>\n",
       "      <td>79227.23</td>\n",
       "    </tr>\n",
       "    <tr>\n",
       "      <th>91950</th>\n",
       "      <td>1.0</td>\n",
       "      <td>79636.32</td>\n",
       "    </tr>\n",
       "  </tbody>\n",
       "</table>\n",
       "<p>91951 rows × 2 columns</p>\n",
       "</div>"
      ],
      "text/plain": [
       "       Channel  Real Time(ns)\n",
       "0          1.0       21622.32\n",
       "1          1.0       21681.91\n",
       "2          1.0       21829.40\n",
       "3          1.0       21889.66\n",
       "4          1.0       32172.16\n",
       "...        ...            ...\n",
       "91946      1.0      312485.84\n",
       "91947      1.0      353710.82\n",
       "91948      0.0       41072.64\n",
       "91949      1.0       79227.23\n",
       "91950      1.0       79636.32\n",
       "\n",
       "[91951 rows x 2 columns]"
      ]
     },
     "execution_count": 16,
     "metadata": {},
     "output_type": "execute_result"
    }
   ],
   "source": [
    "csv"
   ]
  },
  {
   "cell_type": "code",
   "execution_count": 17,
   "metadata": {},
   "outputs": [],
   "source": [
    "ch = csv.Channel.values\n",
    "time = csv['Real Time(ns)'].values"
   ]
  },
  {
   "cell_type": "code",
   "execution_count": 18,
   "metadata": {},
   "outputs": [
    {
     "data": {
      "text/html": [
       "<div>\n",
       "<style scoped>\n",
       "    .dataframe tbody tr th:only-of-type {\n",
       "        vertical-align: middle;\n",
       "    }\n",
       "\n",
       "    .dataframe tbody tr th {\n",
       "        vertical-align: top;\n",
       "    }\n",
       "\n",
       "    .dataframe thead th {\n",
       "        text-align: right;\n",
       "    }\n",
       "</style>\n",
       "<table border=\"1\" class=\"dataframe\">\n",
       "  <thead>\n",
       "    <tr style=\"text-align: right;\">\n",
       "      <th></th>\n",
       "      <th>Channel</th>\n",
       "      <th>Real Time(ns)</th>\n",
       "    </tr>\n",
       "  </thead>\n",
       "  <tbody>\n",
       "    <tr>\n",
       "      <th>0</th>\n",
       "      <td>1.0</td>\n",
       "      <td>21622.32</td>\n",
       "    </tr>\n",
       "    <tr>\n",
       "      <th>1</th>\n",
       "      <td>1.0</td>\n",
       "      <td>21681.91</td>\n",
       "    </tr>\n",
       "    <tr>\n",
       "      <th>2</th>\n",
       "      <td>1.0</td>\n",
       "      <td>21829.40</td>\n",
       "    </tr>\n",
       "    <tr>\n",
       "      <th>3</th>\n",
       "      <td>1.0</td>\n",
       "      <td>21889.66</td>\n",
       "    </tr>\n",
       "    <tr>\n",
       "      <th>4</th>\n",
       "      <td>1.0</td>\n",
       "      <td>32172.16</td>\n",
       "    </tr>\n",
       "    <tr>\n",
       "      <th>...</th>\n",
       "      <td>...</td>\n",
       "      <td>...</td>\n",
       "    </tr>\n",
       "    <tr>\n",
       "      <th>91946</th>\n",
       "      <td>1.0</td>\n",
       "      <td>312485.84</td>\n",
       "    </tr>\n",
       "    <tr>\n",
       "      <th>91947</th>\n",
       "      <td>1.0</td>\n",
       "      <td>353710.82</td>\n",
       "    </tr>\n",
       "    <tr>\n",
       "      <th>91948</th>\n",
       "      <td>0.0</td>\n",
       "      <td>41072.64</td>\n",
       "    </tr>\n",
       "    <tr>\n",
       "      <th>91949</th>\n",
       "      <td>1.0</td>\n",
       "      <td>79227.23</td>\n",
       "    </tr>\n",
       "    <tr>\n",
       "      <th>91950</th>\n",
       "      <td>1.0</td>\n",
       "      <td>79636.32</td>\n",
       "    </tr>\n",
       "  </tbody>\n",
       "</table>\n",
       "<p>91951 rows × 2 columns</p>\n",
       "</div>"
      ],
      "text/plain": [
       "       Channel  Real Time(ns)\n",
       "0          1.0       21622.32\n",
       "1          1.0       21681.91\n",
       "2          1.0       21829.40\n",
       "3          1.0       21889.66\n",
       "4          1.0       32172.16\n",
       "...        ...            ...\n",
       "91946      1.0      312485.84\n",
       "91947      1.0      353710.82\n",
       "91948      0.0       41072.64\n",
       "91949      1.0       79227.23\n",
       "91950      1.0       79636.32\n",
       "\n",
       "[91951 rows x 2 columns]"
      ]
     },
     "execution_count": 18,
     "metadata": {},
     "output_type": "execute_result"
    }
   ],
   "source": [
    "csv"
   ]
  },
  {
   "cell_type": "code",
   "execution_count": 48,
   "metadata": {},
   "outputs": [],
   "source": [
    "histo1 = [[]]\n",
    "histo2 = [[]]\n",
    "hist_start = 18\n",
    "hist_end = 20\n",
    "csv_filt = []\n",
    "triggers = 0\n",
    "j=0\n",
    "for i in range(1,len(ch)):\n",
    "    if ch[i-1]==0:\n",
    "        triggers+=1\n",
    "    delay = time[i]-time[i-1]\n",
    "    if ch[i]!=ch[i-1] and hist_start<delay<hist_end:\n",
    "        delay_out = delay if ch[i-1]==0 else (-delay)\n",
    "        # delay_out=delay\n",
    "        histo1[j].append(delay_out) if (ch[i]==1 or ch[i-1]==1) else None\n",
    "        histo2[j].append(delay_out) if (ch[i]==2 or ch[i-1]==2) else None\n",
    "        csv_filt.append([ch[i-1],time[i-1]])\n",
    "        csv_filt.append([ch[i],time[i]])\n",
    "        continue\n",
    "    if triggers> 10000:\n",
    "        j+=1\n",
    "        triggers=0\n",
    "        histo1.append([])\n",
    "        histo2.append([])\n"
   ]
  },
  {
   "cell_type": "code",
   "execution_count": 49,
   "metadata": {},
   "outputs": [],
   "source": [
    "ch_filt = [data[0] for data in csv_filt]\n",
    "time_filt = [data[1] for data in csv_filt]\n",
    "j=0\n",
    "histo12 = []\n",
    "csv_filt12 = []\n",
    "for i in range(2,len(csv_filt)):\n",
    "    \n",
    "    set_delay = 14.5\n",
    "    delay01 = time_filt[i-1]-time_filt[i-2]\n",
    "    delay12 = time_filt[i]-time_filt[i-1]\n",
    "    \n",
    "    if ch_filt[i-2]==0 and ch_filt[i-2]!=ch_filt[i-1]!=ch_filt[i] and ((set_delay-2)<delay01<set_delay+2) and (-200)<delay12<200:\n",
    "        delay_out = delay12 if ch_filt[i-1]==1 else (-delay12)\n",
    "        histo12.append(delay_out) if ch_filt[i]==1 else histo12.append(-delay_out)\n",
    "        # histo2.append(delay_out) if (ch[i]==2 or ch[i-1]==2) else None\n",
    "        csv_filt12.append([ch_filt[i-2],time_filt[i-2]])\n",
    "        csv_filt12.append([ch_filt[i-1],time_filt[i-1]])\n",
    "        csv_filt12.append([ch_filt[i],time_filt[i]])\n",
    "        continue\n"
   ]
  },
  {
   "cell_type": "code",
   "execution_count": 50,
   "metadata": {},
   "outputs": [
    {
     "data": {
      "text/plain": [
       "(array([0., 0., 0., 0., 0., 0., 0., 0., 0.]),\n",
       " array([18. , 18.2, 18.4, 18.6, 18.8, 19. , 19.2, 19.4, 19.6, 19.8]),\n",
       " <BarContainer object of 9 artists>)"
      ]
     },
     "execution_count": 50,
     "metadata": {},
     "output_type": "execute_result"
    },
    {
     "data": {
      "image/png": "[encoded data removed]",
      "text/plain": [
       "<Figure size 640x480 with 1 Axes>"
      ]
     },
     "metadata": {},
     "output_type": "display_data"
    }
   ],
   "source": [
    "bins =np.arange(hist_start,hist_end,0.2)\n",
    "plt.hist(histo12,bins=bins)"
   ]
  },
  {
   "cell_type": "code",
   "execution_count": 52,
   "metadata": {},
   "outputs": [
    {
     "data": {
      "text/plain": [
       "(array([0., 0., 0., 0., 0., 0., 0., 0., 0.]),\n",
       " array([18. , 18.2, 18.4, 18.6, 18.8, 19. , 19.2, 19.4, 19.6, 19.8]),\n",
       " <BarContainer object of 9 artists>)"
      ]
     },
     "execution_count": 52,
     "metadata": {},
     "output_type": "execute_result"
    },
    {
     "data": {
      "image/png": "[encoded data removed]",
      "text/plain": [
       "<Figure size 640x480 with 1 Axes>"
      ]
     },
     "metadata": {},
     "output_type": "display_data"
    }
   ],
   "source": [
    "plt.hist(histo1[0],bins=bins)\n",
    "plt.hist(histo2[0],bins=bins)\n",
    "# plt.ylim(0,100)\n",
    "# plt.xlim(10,20)"
   ]
  },
  {
   "cell_type": "code",
   "execution_count": 53,
   "metadata": {},
   "outputs": [
    {
     "data": {
      "text/plain": [
       "(array([  5.,  18.,  60., 129., 166., 192., 151.,  58.,  25.]),\n",
       " array([18. , 18.2, 18.4, 18.6, 18.8, 19. , 19.2, 19.4, 19.6, 19.8]),\n",
       " <BarContainer object of 9 artists>)"
      ]
     },
     "execution_count": 53,
     "metadata": {},
     "output_type": "execute_result"
    },
    {
     "data": {
      "image/png": "[encoded data removed]",
      "text/plain": [
       "<Figure size 640x480 with 1 Axes>"
      ]
     },
     "metadata": {},
     "output_type": "display_data"
    }
   ],
   "source": [
    "plt.hist(histo1[0],bins=bins)"
   ]
  },
  {
   "cell_type": "code",
   "execution_count": 54,
   "metadata": {},
   "outputs": [
    {
     "name": "stdout",
     "output_type": "stream",
     "text": [
      "818.0 +- 6.0\n",
      "δn2 36.0\n"
     ]
    }
   ],
   "source": [
    "coin = [len(histo1[i])+len(histo2[i]) for i in range(len(histo1))]\n",
    "mean = np.mean(coin[:-1])\n",
    "stdev = np.std(coin[:-1])\n",
    "dn2 = stdev**2\n",
    "print(mean, \"+-\",stdev )\n",
    "print('δn2', dn2)"
   ]
  },
  {
   "cell_type": "code",
   "execution_count": 28,
   "metadata": {},
   "outputs": [
    {
     "data": {
      "text/plain": [
       "(array([0.06626905, 0.        , 0.        , 0.        , 0.        ,\n",
       "        0.        , 0.        , 0.        , 0.        , 0.        ,\n",
       "        0.        , 0.        , 0.        , 0.        , 0.        ,\n",
       "        0.        , 0.        , 0.        , 0.        , 0.        ,\n",
       "        0.        , 0.        , 0.        , 0.        , 0.        ,\n",
       "        0.        , 0.        , 0.        , 0.        , 0.        ,\n",
       "        0.        , 0.        , 0.        , 0.        , 0.        ,\n",
       "        0.        , 0.        , 0.        , 0.        , 0.        ,\n",
       "        0.        , 0.        , 0.        , 0.        , 0.        ,\n",
       "        0.        , 0.        , 0.        , 0.        , 0.        ,\n",
       "        0.        , 0.        , 0.        , 0.        , 0.        ,\n",
       "        0.        , 0.        , 0.        , 0.        , 0.        ,\n",
       "        0.        , 0.        , 0.        , 0.        , 0.        ,\n",
       "        0.        , 0.        , 0.        , 0.        , 0.        ,\n",
       "        0.        , 0.        , 0.        , 0.        , 0.        ,\n",
       "        0.        , 0.        , 0.        , 0.        , 0.        ,\n",
       "        0.        , 0.        , 0.        , 0.        , 0.        ,\n",
       "        0.        , 0.        , 0.        , 0.        , 0.06626905,\n",
       "        0.        , 0.        , 0.        , 0.        , 0.        ,\n",
       "        0.        , 0.        , 0.        , 0.        , 0.06626905]),\n",
       " array([ 518.  ,  523.03,  528.06,  533.09,  538.12,  543.15,  548.18,\n",
       "         553.21,  558.24,  563.27,  568.3 ,  573.33,  578.36,  583.39,\n",
       "         588.42,  593.45,  598.48,  603.51,  608.54,  613.57,  618.6 ,\n",
       "         623.63,  628.66,  633.69,  638.72,  643.75,  648.78,  653.81,\n",
       "         658.84,  663.87,  668.9 ,  673.93,  678.96,  683.99,  689.02,\n",
       "         694.05,  699.08,  704.11,  709.14,  714.17,  719.2 ,  724.23,\n",
       "         729.26,  734.29,  739.32,  744.35,  749.38,  754.41,  759.44,\n",
       "         764.47,  769.5 ,  774.53,  779.56,  784.59,  789.62,  794.65,\n",
       "         799.68,  804.71,  809.74,  814.77,  819.8 ,  824.83,  829.86,\n",
       "         834.89,  839.92,  844.95,  849.98,  855.01,  860.04,  865.07,\n",
       "         870.1 ,  875.13,  880.16,  885.19,  890.22,  895.25,  900.28,\n",
       "         905.31,  910.34,  915.37,  920.4 ,  925.43,  930.46,  935.49,\n",
       "         940.52,  945.55,  950.58,  955.61,  960.64,  965.67,  970.7 ,\n",
       "         975.73,  980.76,  985.79,  990.82,  995.85, 1000.88, 1005.91,\n",
       "        1010.94, 1015.97, 1021.  ]),\n",
       " <BarContainer object of 100 artists>)"
      ]
     },
     "execution_count": 28,
     "metadata": {},
     "output_type": "execute_result"
    },
    {
     "data": {
      "image/png": "[encoded data removed]",
      "text/plain": [
       "<Figure size 640x480 with 1 Axes>"
      ]
     },
     "metadata": {},
     "output_type": "display_data"
    }
   ],
   "source": [
    "s = np.random.poisson(mean, 100000)\n",
    "count, bins, ignored = plt.hist(s, 100, density=True)\n",
    "plt.hist(coin,bins=100, density=True)"
   ]
  },
  {
   "cell_type": "code",
   "execution_count": 29,
   "metadata": {},
   "outputs": [
    {
     "data": {
      "text/plain": [
       "[967, 1021, 518]"
      ]
     },
     "execution_count": 29,
     "metadata": {},
     "output_type": "execute_result"
    }
   ],
   "source": [
    "coin"
   ]
  },
  {
   "cell_type": "code",
   "execution_count": 163,
   "metadata": {},
   "outputs": [
    {
     "data": {
      "text/plain": [
       "0.2485435717143034"
      ]
     },
     "execution_count": 163,
     "metadata": {},
     "output_type": "execute_result"
    }
   ],
   "source": [
    "coin[0]/triggers"
   ]
  }
 ],
 "metadata": {
  "kernelspec": {
   "display_name": "Python 3",
   "language": "python",
   "name": "python3"
  },
  "language_info": {
   "codemirror_mode": {
    "name": "ipython",
    "version": 3
   },
   "file_extension": ".py",
   "mimetype": "text/x-python",
   "name": "python",
   "nbconvert_exporter": "python",
   "pygments_lexer": "ipython3",
   "version": "3.11.9"
  }
 },
 "nbformat": 4,
 "nbformat_minor": 2
}
