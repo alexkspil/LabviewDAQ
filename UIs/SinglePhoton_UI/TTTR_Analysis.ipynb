{
 "cells": [
  {
   "cell_type": "code",
   "execution_count": 19,
   "id": "c33ac12f",
   "metadata": {},
   "outputs": [],
   "source": [
    "from Read_Binary import main\n",
    "import pandas as pd\n",
    "import matplotlib.pyplot as plt\n",
    "import numpy as np"
   ]
  },
  {
   "cell_type": "markdown",
   "id": "e40417b2",
   "metadata": {
    "tags": []
   },
   "source": [
    "# File Load"
   ]
  },
  {
   "cell_type": "code",
   "execution_count": 20,
   "id": "c14e924f",
   "metadata": {},
   "outputs": [],
   "source": [
    "inputfile = '20220210test_2.out'"
   ]
  },
  {
   "cell_type": "code",
   "execution_count": 21,
   "id": "5c7a94c8",
   "metadata": {},
   "outputs": [
    {
     "name": "stdout",
     "output_type": "stream",
     "text": [
      "Progress: 99.9%"
     ]
    }
   ],
   "source": [
    "# Create 4 dataframes:\n",
    "#  - Tags, which show the measurement information (Number of Records, Resolution etc)\n",
    "#  - Photon Events\n",
    "#  - Marker Events\n",
    "#  - Overflow Events\n",
    "\n",
    "tags, photondata, markerdata, ovfldata = main(inputfile)\n",
    "tagsdf = pd.DataFrame(tags)\n",
    "photondf = pd.DataFrame(photondata)\n",
    "markerdf = pd.DataFrame(markerdata)\n",
    "ovfldf = pd.DataFrame(ovfldata)"
   ]
  },
  {
   "cell_type": "markdown",
   "id": "d78b1707",
   "metadata": {
    "tags": []
   },
   "source": [
    "# Dataframes"
   ]
  },
  {
   "cell_type": "markdown",
   "id": "0de66214",
   "metadata": {},
   "source": [
    "### Tags"
   ]
  },
  {
   "cell_type": "code",
   "execution_count": 22,
   "id": "50ecb392",
   "metadata": {
    "scrolled": true
   },
   "outputs": [
    {
     "data": {
      "text/html": [
       "<div>\n",
       "<style scoped>\n",
       "    .dataframe tbody tr th:only-of-type {\n",
       "        vertical-align: middle;\n",
       "    }\n",
       "\n",
       "    .dataframe tbody tr th {\n",
       "        vertical-align: top;\n",
       "    }\n",
       "\n",
       "    .dataframe thead th {\n",
       "        text-align: right;\n",
       "    }\n",
       "</style>\n",
       "<table border=\"1\" class=\"dataframe\">\n",
       "  <thead>\n",
       "    <tr style=\"text-align: right;\">\n",
       "      <th></th>\n",
       "      <th>Mode</th>\n",
       "      <th>Records</th>\n",
       "      <th>Resolution</th>\n",
       "      <th>Acquisition Time</th>\n",
       "      <th>Binning</th>\n",
       "      <th>Offset</th>\n",
       "      <th>SyncDivider</th>\n",
       "      <th>SyncLvl</th>\n",
       "      <th>SyncEdge</th>\n",
       "      <th>SyncOffset</th>\n",
       "      <th>...</th>\n",
       "      <th>Chn2Lvl</th>\n",
       "      <th>Chn2Edge</th>\n",
       "      <th>Chn2Offset</th>\n",
       "      <th>Chn3Lvl</th>\n",
       "      <th>Chn3Edge</th>\n",
       "      <th>Chn3Offset</th>\n",
       "      <th>Chn4Lvl</th>\n",
       "      <th>Chn4Edge</th>\n",
       "      <th>Chn4Offset</th>\n",
       "      <th>Header End</th>\n",
       "    </tr>\n",
       "  </thead>\n",
       "  <tbody>\n",
       "    <tr>\n",
       "      <th>0</th>\n",
       "      <td>3</td>\n",
       "      <td>11216255</td>\n",
       "      <td>0.0</td>\n",
       "      <td>100000</td>\n",
       "      <td>6</td>\n",
       "      <td>0</td>\n",
       "      <td>4</td>\n",
       "      <td>-200</td>\n",
       "      <td>0</td>\n",
       "      <td>0</td>\n",
       "      <td>...</td>\n",
       "      <td>-100</td>\n",
       "      <td>0</td>\n",
       "      <td>0</td>\n",
       "      <td>-100</td>\n",
       "      <td>0</td>\n",
       "      <td>0</td>\n",
       "      <td>-100</td>\n",
       "      <td>0</td>\n",
       "      <td>0</td>\n",
       "      <td>True</td>\n",
       "    </tr>\n",
       "  </tbody>\n",
       "</table>\n",
       "<p>1 rows × 23 columns</p>\n",
       "</div>"
      ],
      "text/plain": [
       "  Mode   Records Resolution Acquisition Time Binning Offset SyncDivider  \\\n",
       "0    3  11216255        0.0           100000       6      0           4   \n",
       "\n",
       "  SyncLvl SyncEdge SyncOffset  ... Chn2Lvl Chn2Edge Chn2Offset Chn3Lvl  \\\n",
       "0    -200        0          0  ...    -100        0          0    -100   \n",
       "\n",
       "  Chn3Edge Chn3Offset Chn4Lvl Chn4Edge Chn4Offset Header End  \n",
       "0        0          0    -100        0          0       True  \n",
       "\n",
       "[1 rows x 23 columns]"
      ]
     },
     "execution_count": 22,
     "metadata": {},
     "output_type": "execute_result"
    }
   ],
   "source": [
    "tagsdf"
   ]
  },
  {
   "cell_type": "markdown",
   "id": "78e5f6e6",
   "metadata": {},
   "source": [
    "### Photons"
   ]
  },
  {
   "cell_type": "code",
   "execution_count": 23,
   "id": "37e550d6",
   "metadata": {},
   "outputs": [
    {
     "data": {
      "text/html": [
       "<div>\n",
       "<style scoped>\n",
       "    .dataframe tbody tr th:only-of-type {\n",
       "        vertical-align: middle;\n",
       "    }\n",
       "\n",
       "    .dataframe tbody tr th {\n",
       "        vertical-align: top;\n",
       "    }\n",
       "\n",
       "    .dataframe thead th {\n",
       "        text-align: right;\n",
       "    }\n",
       "</style>\n",
       "<table border=\"1\" class=\"dataframe\">\n",
       "  <thead>\n",
       "    <tr style=\"text-align: right;\">\n",
       "      <th></th>\n",
       "      <th>recNum</th>\n",
       "      <th>Channel</th>\n",
       "      <th>Real Time</th>\n",
       "      <th>nsync</th>\n",
       "      <th>dtime</th>\n",
       "    </tr>\n",
       "  </thead>\n",
       "  <tbody>\n",
       "    <tr>\n",
       "      <th>0</th>\n",
       "      <td>2</td>\n",
       "      <td>1</td>\n",
       "      <td>0.0</td>\n",
       "      <td>2068</td>\n",
       "      <td>8</td>\n",
       "    </tr>\n",
       "    <tr>\n",
       "      <th>1</th>\n",
       "      <td>4</td>\n",
       "      <td>1</td>\n",
       "      <td>0.0</td>\n",
       "      <td>3165</td>\n",
       "      <td>8</td>\n",
       "    </tr>\n",
       "    <tr>\n",
       "      <th>2</th>\n",
       "      <td>10</td>\n",
       "      <td>1</td>\n",
       "      <td>0.0</td>\n",
       "      <td>8758</td>\n",
       "      <td>9</td>\n",
       "    </tr>\n",
       "    <tr>\n",
       "      <th>3</th>\n",
       "      <td>13</td>\n",
       "      <td>1</td>\n",
       "      <td>0.0</td>\n",
       "      <td>10496</td>\n",
       "      <td>9</td>\n",
       "    </tr>\n",
       "    <tr>\n",
       "      <th>4</th>\n",
       "      <td>15</td>\n",
       "      <td>2</td>\n",
       "      <td>0.0</td>\n",
       "      <td>12287</td>\n",
       "      <td>16</td>\n",
       "    </tr>\n",
       "    <tr>\n",
       "      <th>...</th>\n",
       "      <td>...</td>\n",
       "      <td>...</td>\n",
       "      <td>...</td>\n",
       "      <td>...</td>\n",
       "      <td>...</td>\n",
       "    </tr>\n",
       "    <tr>\n",
       "      <th>3590816</th>\n",
       "      <td>11216244</td>\n",
       "      <td>1</td>\n",
       "      <td>0.0</td>\n",
       "      <td>7808438329</td>\n",
       "      <td>8</td>\n",
       "    </tr>\n",
       "    <tr>\n",
       "      <th>3590817</th>\n",
       "      <td>11216247</td>\n",
       "      <td>2</td>\n",
       "      <td>0.0</td>\n",
       "      <td>7808440325</td>\n",
       "      <td>12</td>\n",
       "    </tr>\n",
       "    <tr>\n",
       "      <th>3590818</th>\n",
       "      <td>11216248</td>\n",
       "      <td>1</td>\n",
       "      <td>0.0</td>\n",
       "      <td>7808441306</td>\n",
       "      <td>7</td>\n",
       "    </tr>\n",
       "    <tr>\n",
       "      <th>3590819</th>\n",
       "      <td>11216250</td>\n",
       "      <td>1</td>\n",
       "      <td>0.0</td>\n",
       "      <td>7808441678</td>\n",
       "      <td>7</td>\n",
       "    </tr>\n",
       "    <tr>\n",
       "      <th>3590820</th>\n",
       "      <td>11216251</td>\n",
       "      <td>0</td>\n",
       "      <td>0.0</td>\n",
       "      <td>7808442144</td>\n",
       "      <td>16</td>\n",
       "    </tr>\n",
       "  </tbody>\n",
       "</table>\n",
       "<p>3590821 rows × 5 columns</p>\n",
       "</div>"
      ],
      "text/plain": [
       "           recNum  Channel  Real Time       nsync  dtime\n",
       "0               2        1        0.0        2068      8\n",
       "1               4        1        0.0        3165      8\n",
       "2              10        1        0.0        8758      9\n",
       "3              13        1        0.0       10496      9\n",
       "4              15        2        0.0       12287     16\n",
       "...           ...      ...        ...         ...    ...\n",
       "3590816  11216244        1        0.0  7808438329      8\n",
       "3590817  11216247        2        0.0  7808440325     12\n",
       "3590818  11216248        1        0.0  7808441306      7\n",
       "3590819  11216250        1        0.0  7808441678      7\n",
       "3590820  11216251        0        0.0  7808442144     16\n",
       "\n",
       "[3590821 rows x 5 columns]"
      ]
     },
     "execution_count": 23,
     "metadata": {},
     "output_type": "execute_result"
    }
   ],
   "source": [
    "photondf"
   ]
  },
  {
   "cell_type": "markdown",
   "id": "f6e2ce21",
   "metadata": {
    "tags": []
   },
   "source": [
    "### Markers"
   ]
  },
  {
   "cell_type": "code",
   "execution_count": 24,
   "id": "39c2c468",
   "metadata": {},
   "outputs": [
    {
     "data": {
      "text/html": [
       "<div>\n",
       "<style scoped>\n",
       "    .dataframe tbody tr th:only-of-type {\n",
       "        vertical-align: middle;\n",
       "    }\n",
       "\n",
       "    .dataframe tbody tr th {\n",
       "        vertical-align: top;\n",
       "    }\n",
       "\n",
       "    .dataframe thead th {\n",
       "        text-align: right;\n",
       "    }\n",
       "</style>\n",
       "<table border=\"1\" class=\"dataframe\">\n",
       "  <thead>\n",
       "    <tr style=\"text-align: right;\">\n",
       "      <th></th>\n",
       "      <th>recNum</th>\n",
       "      <th>Marker</th>\n",
       "      <th>TimeTag</th>\n",
       "    </tr>\n",
       "  </thead>\n",
       "  <tbody>\n",
       "  </tbody>\n",
       "</table>\n",
       "</div>"
      ],
      "text/plain": [
       "Empty DataFrame\n",
       "Columns: [recNum, Marker, TimeTag]\n",
       "Index: []"
      ]
     },
     "execution_count": 24,
     "metadata": {},
     "output_type": "execute_result"
    }
   ],
   "source": [
    "markerdf"
   ]
  },
  {
   "cell_type": "markdown",
   "id": "b6e8415a",
   "metadata": {
    "jp-MarkdownHeadingCollapsed": true,
    "tags": []
   },
   "source": [
    "\n",
    "# T2 Analysis"
   ]
  },
  {
   "cell_type": "code",
   "execution_count": null,
   "id": "50448b1b",
   "metadata": {},
   "outputs": [],
   "source": [
    "import time"
   ]
  },
  {
   "cell_type": "code",
   "execution_count": 37,
   "id": "66867818",
   "metadata": {},
   "outputs": [
    {
     "ename": "IndexError",
     "evalue": "single positional indexer is out-of-bounds",
     "output_type": "error",
     "traceback": [
      "\u001b[1;31m---------------------------------------------------------------------------\u001b[0m",
      "\u001b[1;31mIndexError\u001b[0m                                Traceback (most recent call last)",
      "Input \u001b[1;32mIn [37]\u001b[0m, in \u001b[0;36m<module>\u001b[1;34m\u001b[0m\n\u001b[0;32m     11\u001b[0m elem \u001b[38;5;241m=\u001b[39m photondf\u001b[38;5;241m.\u001b[39miloc[i]\n\u001b[0;32m     12\u001b[0m \u001b[38;5;28;01mif\u001b[39;00m elem\u001b[38;5;241m.\u001b[39mChannel \u001b[38;5;241m==\u001b[39m \u001b[38;5;241m1\u001b[39m:\n\u001b[1;32m---> 13\u001b[0m     nextelem \u001b[38;5;241m=\u001b[39m \u001b[43mphotondf\u001b[49m\u001b[38;5;241;43m.\u001b[39;49m\u001b[43miloc\u001b[49m\u001b[43m[\u001b[49m\u001b[43mi\u001b[49m\u001b[38;5;241;43m+\u001b[39;49m\u001b[38;5;241;43m1\u001b[39;49m\u001b[43m]\u001b[49m\n\u001b[0;32m     14\u001b[0m     secelem \u001b[38;5;241m=\u001b[39m photondf\u001b[38;5;241m.\u001b[39miloc[i\u001b[38;5;241m+\u001b[39m\u001b[38;5;241m2\u001b[39m]\n\u001b[0;32m     15\u001b[0m     val10 \u001b[38;5;241m=\u001b[39m \u001b[38;5;28mint\u001b[39m(nextelem\u001b[38;5;241m.\u001b[39mTimeTag \u001b[38;5;241m-\u001b[39m elem\u001b[38;5;241m.\u001b[39mTimeTag)\n",
      "File \u001b[1;32m~\\AppData\\Local\\Programs\\Python\\Python39\\lib\\site-packages\\pandas\\core\\indexing.py:931\u001b[0m, in \u001b[0;36m_LocationIndexer.__getitem__\u001b[1;34m(self, key)\u001b[0m\n\u001b[0;32m    928\u001b[0m axis \u001b[38;5;241m=\u001b[39m \u001b[38;5;28mself\u001b[39m\u001b[38;5;241m.\u001b[39maxis \u001b[38;5;129;01mor\u001b[39;00m \u001b[38;5;241m0\u001b[39m\n\u001b[0;32m    930\u001b[0m maybe_callable \u001b[38;5;241m=\u001b[39m com\u001b[38;5;241m.\u001b[39mapply_if_callable(key, \u001b[38;5;28mself\u001b[39m\u001b[38;5;241m.\u001b[39mobj)\n\u001b[1;32m--> 931\u001b[0m \u001b[38;5;28;01mreturn\u001b[39;00m \u001b[38;5;28;43mself\u001b[39;49m\u001b[38;5;241;43m.\u001b[39;49m\u001b[43m_getitem_axis\u001b[49m\u001b[43m(\u001b[49m\u001b[43mmaybe_callable\u001b[49m\u001b[43m,\u001b[49m\u001b[43m \u001b[49m\u001b[43maxis\u001b[49m\u001b[38;5;241;43m=\u001b[39;49m\u001b[43maxis\u001b[49m\u001b[43m)\u001b[49m\n",
      "File \u001b[1;32m~\\AppData\\Local\\Programs\\Python\\Python39\\lib\\site-packages\\pandas\\core\\indexing.py:1566\u001b[0m, in \u001b[0;36m_iLocIndexer._getitem_axis\u001b[1;34m(self, key, axis)\u001b[0m\n\u001b[0;32m   1563\u001b[0m     \u001b[38;5;28;01mraise\u001b[39;00m \u001b[38;5;167;01mTypeError\u001b[39;00m(\u001b[38;5;124m\"\u001b[39m\u001b[38;5;124mCannot index by location index with a non-integer key\u001b[39m\u001b[38;5;124m\"\u001b[39m)\n\u001b[0;32m   1565\u001b[0m \u001b[38;5;66;03m# validate the location\u001b[39;00m\n\u001b[1;32m-> 1566\u001b[0m \u001b[38;5;28;43mself\u001b[39;49m\u001b[38;5;241;43m.\u001b[39;49m\u001b[43m_validate_integer\u001b[49m\u001b[43m(\u001b[49m\u001b[43mkey\u001b[49m\u001b[43m,\u001b[49m\u001b[43m \u001b[49m\u001b[43maxis\u001b[49m\u001b[43m)\u001b[49m\n\u001b[0;32m   1568\u001b[0m \u001b[38;5;28;01mreturn\u001b[39;00m \u001b[38;5;28mself\u001b[39m\u001b[38;5;241m.\u001b[39mobj\u001b[38;5;241m.\u001b[39m_ixs(key, axis\u001b[38;5;241m=\u001b[39maxis)\n",
      "File \u001b[1;32m~\\AppData\\Local\\Programs\\Python\\Python39\\lib\\site-packages\\pandas\\core\\indexing.py:1500\u001b[0m, in \u001b[0;36m_iLocIndexer._validate_integer\u001b[1;34m(self, key, axis)\u001b[0m\n\u001b[0;32m   1498\u001b[0m len_axis \u001b[38;5;241m=\u001b[39m \u001b[38;5;28mlen\u001b[39m(\u001b[38;5;28mself\u001b[39m\u001b[38;5;241m.\u001b[39mobj\u001b[38;5;241m.\u001b[39m_get_axis(axis))\n\u001b[0;32m   1499\u001b[0m \u001b[38;5;28;01mif\u001b[39;00m key \u001b[38;5;241m>\u001b[39m\u001b[38;5;241m=\u001b[39m len_axis \u001b[38;5;129;01mor\u001b[39;00m key \u001b[38;5;241m<\u001b[39m \u001b[38;5;241m-\u001b[39mlen_axis:\n\u001b[1;32m-> 1500\u001b[0m     \u001b[38;5;28;01mraise\u001b[39;00m \u001b[38;5;167;01mIndexError\u001b[39;00m(\u001b[38;5;124m\"\u001b[39m\u001b[38;5;124msingle positional indexer is out-of-bounds\u001b[39m\u001b[38;5;124m\"\u001b[39m)\n",
      "\u001b[1;31mIndexError\u001b[0m: single positional indexer is out-of-bounds"
     ]
    }
   ],
   "source": [
    "start = time.time()\n",
    "N1 = []\n",
    "N2 = []\n",
    "N12 = []\n",
    "N21 = []\n",
    "ln = int(tagsdf['Records'].values[0])\n",
    "thresdown = 0\n",
    "thresup = 50000 \n",
    "# Maybe try to run this loop on a df with just ch0\n",
    "for i in range(len(photondf[:ln])):\n",
    "    elem = photondf.iloc[i]\n",
    "    if elem.Channel == 1:\n",
    "        nextelem = photondf.iloc[i+1]\n",
    "        secelem = photondf.iloc[i+2]\n",
    "        val10 = int(nextelem.TimeTag - elem.TimeTag)\n",
    "        val20 = int(secelem.TimeTag - elem.TimeTag)\n",
    "        val21 = int(secelem.TimeTag - nextelem.TimeTag)\n",
    "        if nextelem.Channel==2 and thresdown <val10 < thresup:\n",
    "            if secelem.Channel==3 and thresdown <val21 < thresup:\n",
    "                N12.append([(int(elem.recNum), int(nextelem.recNum), int(secelem.recNum)), (val10,val20)])\n",
    "            else:\n",
    "                N1.append([(int(elem.recNum), int(nextelem.recNum)), (val10)]) \n",
    "            \n",
    "        elif nextelem.Channel==3 and thresdown <val10 < thresup:\n",
    "            if secelem.Channel==2 and thresdown <val21 < thresup:\n",
    "                N21.append([(int(elem.recNum), int(nextelem.recNum), int(secelem.recNum)), (val10,val20)])\n",
    "            else:\n",
    "                N2.append([(int(elem.recNum), int(nextelem.recNum)), (val10)]) \n",
    "        else:\n",
    "            continue\n",
    "    else:\n",
    "            continue\n",
    "            \n",
    "end=time.time()\n",
    "print(str(round(end - start)) + ' seconds')"
   ]
  },
  {
   "cell_type": "code",
   "execution_count": null,
   "id": "50ebbbcf",
   "metadata": {},
   "outputs": [],
   "source": [
    "n1dt = [n[1] for n in N1]\n",
    "n2dt = [n[1] for n in N2]\n",
    "n12dt = [n[1] for n in N12]\n",
    "n21dt = [n[1] for n in N21]"
   ]
  },
  {
   "cell_type": "code",
   "execution_count": null,
   "id": "ed85ed5b",
   "metadata": {},
   "outputs": [],
   "source": [
    "plt.scatter(np.arange(len(n1dt)),n1dt)"
   ]
  },
  {
   "cell_type": "code",
   "execution_count": 38,
   "id": "6359386a",
   "metadata": {},
   "outputs": [
    {
     "ename": "NameError",
     "evalue": "name 'n2dt' is not defined",
     "output_type": "error",
     "traceback": [
      "\u001b[1;31m---------------------------------------------------------------------------\u001b[0m",
      "\u001b[1;31mNameError\u001b[0m                                 Traceback (most recent call last)",
      "Input \u001b[1;32mIn [38]\u001b[0m, in \u001b[0;36m<module>\u001b[1;34m\u001b[0m\n\u001b[1;32m----> 1\u001b[0m plt\u001b[38;5;241m.\u001b[39mscatter(np\u001b[38;5;241m.\u001b[39marange(\u001b[38;5;28mlen\u001b[39m(\u001b[43mn2dt\u001b[49m)),n2dt)\n",
      "\u001b[1;31mNameError\u001b[0m: name 'n2dt' is not defined"
     ]
    }
   ],
   "source": [
    "plt.scatter(np.arange(len(n2dt)),n2dt)"
   ]
  },
  {
   "cell_type": "code",
   "execution_count": 39,
   "id": "aa3b27af",
   "metadata": {},
   "outputs": [
    {
     "ename": "NameError",
     "evalue": "name 'n12dt' is not defined",
     "output_type": "error",
     "traceback": [
      "\u001b[1;31m---------------------------------------------------------------------------\u001b[0m",
      "\u001b[1;31mNameError\u001b[0m                                 Traceback (most recent call last)",
      "Input \u001b[1;32mIn [39]\u001b[0m, in \u001b[0;36m<module>\u001b[1;34m\u001b[0m\n\u001b[1;32m----> 1\u001b[0m n12dt_arng \u001b[38;5;241m=\u001b[39m [[n[\u001b[38;5;241m0\u001b[39m] \u001b[38;5;28;01mfor\u001b[39;00m n \u001b[38;5;129;01min\u001b[39;00m \u001b[43mn12dt\u001b[49m],[n[\u001b[38;5;241m1\u001b[39m] \u001b[38;5;28;01mfor\u001b[39;00m n \u001b[38;5;129;01min\u001b[39;00m n12dt]]\n\u001b[0;32m      2\u001b[0m plt\u001b[38;5;241m.\u001b[39mscatter(np\u001b[38;5;241m.\u001b[39marange(\u001b[38;5;28mlen\u001b[39m(n12dt)),n12dt_arng[\u001b[38;5;241m0\u001b[39m])\n\u001b[0;32m      3\u001b[0m plt\u001b[38;5;241m.\u001b[39mscatter(np\u001b[38;5;241m.\u001b[39marange(\u001b[38;5;28mlen\u001b[39m(n12dt)),n12dt_arng[\u001b[38;5;241m1\u001b[39m])\n",
      "\u001b[1;31mNameError\u001b[0m: name 'n12dt' is not defined"
     ]
    }
   ],
   "source": [
    "n12dt_arng = [[n[0] for n in n12dt],[n[1] for n in n12dt]]\n",
    "plt.scatter(np.arange(len(n12dt)),n12dt_arng[0])\n",
    "plt.scatter(np.arange(len(n12dt)),n12dt_arng[1])"
   ]
  },
  {
   "cell_type": "code",
   "execution_count": 40,
   "id": "da102e7f",
   "metadata": {
    "scrolled": true
   },
   "outputs": [
    {
     "ename": "NameError",
     "evalue": "name 'n21dt' is not defined",
     "output_type": "error",
     "traceback": [
      "\u001b[1;31m---------------------------------------------------------------------------\u001b[0m",
      "\u001b[1;31mNameError\u001b[0m                                 Traceback (most recent call last)",
      "Input \u001b[1;32mIn [40]\u001b[0m, in \u001b[0;36m<module>\u001b[1;34m\u001b[0m\n\u001b[1;32m----> 1\u001b[0m n21dt_arng \u001b[38;5;241m=\u001b[39m [[n[\u001b[38;5;241m0\u001b[39m] \u001b[38;5;28;01mfor\u001b[39;00m n \u001b[38;5;129;01min\u001b[39;00m \u001b[43mn21dt\u001b[49m],[n[\u001b[38;5;241m1\u001b[39m] \u001b[38;5;28;01mfor\u001b[39;00m n \u001b[38;5;129;01min\u001b[39;00m n21dt]]\n\u001b[0;32m      2\u001b[0m plt\u001b[38;5;241m.\u001b[39mscatter(np\u001b[38;5;241m.\u001b[39marange(\u001b[38;5;28mlen\u001b[39m(n21dt)),n21dt_arng[\u001b[38;5;241m0\u001b[39m])\n\u001b[0;32m      3\u001b[0m plt\u001b[38;5;241m.\u001b[39mscatter(np\u001b[38;5;241m.\u001b[39marange(\u001b[38;5;28mlen\u001b[39m(n21dt)),n21dt_arng[\u001b[38;5;241m1\u001b[39m])\n",
      "\u001b[1;31mNameError\u001b[0m: name 'n21dt' is not defined"
     ]
    }
   ],
   "source": [
    "n21dt_arng = [[n[0] for n in n21dt],[n[1] for n in n21dt]]\n",
    "plt.scatter(np.arange(len(n21dt)),n21dt_arng[0])\n",
    "plt.scatter(np.arange(len(n21dt)),n21dt_arng[1])"
   ]
  },
  {
   "cell_type": "code",
   "execution_count": 41,
   "id": "2d433369",
   "metadata": {},
   "outputs": [],
   "source": [
    "all_delays = [[photondf.TimeTag[:-1].iloc[i+1]-photondf.TimeTag[:-1].iloc[i]] for i in range(len(photondf.TimeTag[:1000]))]"
   ]
  },
  {
   "cell_type": "code",
   "execution_count": 195,
   "id": "59037052",
   "metadata": {
    "scrolled": true
   },
   "outputs": [
    {
     "data": {
      "text/plain": [
       "<matplotlib.collections.PathCollection at 0x2825a27dac0>"
      ]
     },
     "execution_count": 195,
     "metadata": {},
     "output_type": "execute_result"
    },
    {
     "data": {
      "image/png": "[encoded data removed]",
      "text/plain": [
       "<Figure size 432x288 with 1 Axes>"
      ]
     },
     "metadata": {
      "needs_background": "light"
     },
     "output_type": "display_data"
    }
   ],
   "source": [
    "plt.scatter(np.arange(len(all_delays)),all_delays)"
   ]
  },
  {
   "cell_type": "code",
   "execution_count": 196,
   "id": "96639f93",
   "metadata": {},
   "outputs": [
    {
     "data": {
      "text/plain": [
       "(array([0., 0., 0., 0., 0., 0., 0., 0., 0., 0., 0., 0., 0., 0., 0.]),\n",
       " array([0.        , 0.06666667, 0.13333333, 0.2       , 0.26666667,\n",
       "        0.33333333, 0.4       , 0.46666667, 0.53333333, 0.6       ,\n",
       "        0.66666667, 0.73333333, 0.8       , 0.86666667, 0.93333333,\n",
       "        1.        ]),\n",
       " <BarContainer object of 15 artists>)"
      ]
     },
     "execution_count": 196,
     "metadata": {},
     "output_type": "execute_result"
    },
    {
     "data": {
      "image/png": "[encoded data removed]",
      "text/plain": [
       "<Figure size 432x288 with 1 Axes>"
      ]
     },
     "metadata": {
      "needs_background": "light"
     },
     "output_type": "display_data"
    }
   ],
   "source": [
    "plt.hist(n2dt, bins=15)"
   ]
  },
  {
   "cell_type": "code",
   "execution_count": 197,
   "id": "2d71b855",
   "metadata": {},
   "outputs": [
    {
     "data": {
      "text/plain": [
       "(array([1., 0., 0., 0., 0., 0., 0., 0., 0., 0., 1., 0., 0., 0., 1.]),\n",
       " array([11225. , 12917.8, 14610.6, 16303.4, 17996.2, 19689. , 21381.8,\n",
       "        23074.6, 24767.4, 26460.2, 28153. , 29845.8, 31538.6, 33231.4,\n",
       "        34924.2, 36617. ]),\n",
       " <BarContainer object of 15 artists>)"
      ]
     },
     "execution_count": 197,
     "metadata": {},
     "output_type": "execute_result"
    },
    {
     "data": {
      "image/png": "[encoded data removed]",
      "text/plain": [
       "<Figure size 432x288 with 1 Axes>"
      ]
     },
     "metadata": {
      "needs_background": "light"
     },
     "output_type": "display_data"
    }
   ],
   "source": [
    "plt.hist(n1dt, bins=15)"
   ]
  },
  {
   "cell_type": "code",
   "execution_count": 198,
   "id": "6719d1bc",
   "metadata": {},
   "outputs": [
    {
     "data": {
      "text/plain": [
       "(array([[0., 0., 0., 0., 0., 0., 0., 0., 0., 0., 0., 0., 0., 0., 0.],\n",
       "        [0., 0., 0., 0., 0., 0., 0., 0., 0., 0., 0., 0., 0., 0., 0.]]),\n",
       " array([0.        , 0.06666667, 0.13333333, 0.2       , 0.26666667,\n",
       "        0.33333333, 0.4       , 0.46666667, 0.53333333, 0.6       ,\n",
       "        0.66666667, 0.73333333, 0.8       , 0.86666667, 0.93333333,\n",
       "        1.        ]),\n",
       " <a list of 2 BarContainer objects>)"
      ]
     },
     "execution_count": 198,
     "metadata": {},
     "output_type": "execute_result"
    },
    {
     "data": {
      "image/png": "[encoded data removed]",
      "text/plain": [
       "<Figure size 432x288 with 1 Axes>"
      ]
     },
     "metadata": {
      "needs_background": "light"
     },
     "output_type": "display_data"
    }
   ],
   "source": [
    "plt.hist(n12dt_arng, bins=15)"
   ]
  },
  {
   "cell_type": "code",
   "execution_count": 2,
   "id": "7161fba3",
   "metadata": {},
   "outputs": [
    {
     "ename": "NameError",
     "evalue": "name 'n21dt_arng' is not defined",
     "output_type": "error",
     "traceback": [
      "\u001b[1;31m---------------------------------------------------------------------------\u001b[0m",
      "\u001b[1;31mNameError\u001b[0m                                 Traceback (most recent call last)",
      "Input \u001b[1;32mIn [2]\u001b[0m, in \u001b[0;36m<module>\u001b[1;34m\u001b[0m\n\u001b[1;32m----> 1\u001b[0m plt\u001b[38;5;241m.\u001b[39mhist(\u001b[43mn21dt_arng\u001b[49m, bins\u001b[38;5;241m=\u001b[39m\u001b[38;5;241m15\u001b[39m)\n",
      "\u001b[1;31mNameError\u001b[0m: name 'n21dt_arng' is not defined"
     ]
    }
   ],
   "source": [
    "plt.hist(n21dt_arng, bins=15)"
   ]
  },
  {
   "cell_type": "markdown",
   "id": "dae94370-319a-4805-8511-d247e20d284a",
   "metadata": {},
   "source": [
    "# T3 Analysis"
   ]
  },
  {
   "cell_type": "code",
   "execution_count": 25,
   "id": "2cf1c1a0-1c95-4cab-86e6-c2195b5bf26a",
   "metadata": {},
   "outputs": [],
   "source": [
    "ch1df = photondf[photondf['Channel']==0]\n",
    "ch2df = photondf[photondf['Channel']==1]\n",
    "ch3df = photondf[photondf['Channel']==2]"
   ]
  },
  {
   "cell_type": "code",
   "execution_count": 26,
   "id": "7f0e4293-cf76-4019-b87c-f4f0f8d2e325",
   "metadata": {},
   "outputs": [
    {
     "data": {
      "text/plain": [
       "<matplotlib.collections.PathCollection at 0x2574b98c970>"
      ]
     },
     "execution_count": 26,
     "metadata": {},
     "output_type": "execute_result"
    },
    {
     "data": {
      "image/png": "[encoded data removed]",
      "text/plain": [
       "<Figure size 432x288 with 1 Axes>"
      ]
     },
     "metadata": {
      "needs_background": "light"
     },
     "output_type": "display_data"
    }
   ],
   "source": [
    "plt.scatter(ch1df['dtime']*0.64,np.arange(0, len(ch1df)),)\n",
    "plt.scatter(ch2df['dtime']*0.64,np.arange(0, len(ch2df)),)\n",
    "plt.scatter(ch3df['dtime']*0.64,np.arange(0, len(ch3df)),)"
   ]
  },
  {
   "cell_type": "code",
   "execution_count": 27,
   "id": "421b4446-cfc3-469a-8981-c2bc7ddadf16",
   "metadata": {},
   "outputs": [
    {
     "data": {
      "text/plain": [
       "(array([9.33000e+03, 6.11600e+03, 5.54300e+03, 5.51200e+03, 0.00000e+00,\n",
       "        5.42500e+03, 5.41000e+03, 5.32200e+03, 5.45600e+03, 0.00000e+00,\n",
       "        5.78300e+03, 5.70700e+03, 5.54800e+03, 5.31700e+03, 0.00000e+00,\n",
       "        5.39800e+03, 5.40400e+03, 5.45000e+03, 5.41600e+03, 0.00000e+00,\n",
       "        2.38151e+05, 4.28753e+05, 1.90772e+05, 3.05440e+04, 3.15000e+02]),\n",
       " array([ 0.   ,  0.512,  1.024,  1.536,  2.048,  2.56 ,  3.072,  3.584,\n",
       "         4.096,  4.608,  5.12 ,  5.632,  6.144,  6.656,  7.168,  7.68 ,\n",
       "         8.192,  8.704,  9.216,  9.728, 10.24 , 10.752, 11.264, 11.776,\n",
       "        12.288, 12.8  ]),\n",
       " <BarContainer object of 25 artists>)"
      ]
     },
     "execution_count": 27,
     "metadata": {},
     "output_type": "execute_result"
    },
    {
     "data": {
      "image/png": "[encoded data removed]",
      "text/plain": [
       "<Figure size 432x288 with 1 Axes>"
      ]
     },
     "metadata": {
      "needs_background": "light"
     },
     "output_type": "display_data"
    }
   ],
   "source": [
    "plt.hist(ch1df['dtime']*0.64, bins=25)\n",
    "plt.hist(ch2df['dtime']*0.64, bins=25)\n",
    "plt.hist(ch3df['dtime']*0.64, bins=25)"
   ]
  },
  {
   "cell_type": "code",
   "execution_count": 28,
   "id": "82530362-cb39-44f2-b97d-2a684a8c32da",
   "metadata": {},
   "outputs": [
    {
     "data": {
      "text/html": [
       "<div>\n",
       "<style scoped>\n",
       "    .dataframe tbody tr th:only-of-type {\n",
       "        vertical-align: middle;\n",
       "    }\n",
       "\n",
       "    .dataframe tbody tr th {\n",
       "        vertical-align: top;\n",
       "    }\n",
       "\n",
       "    .dataframe thead th {\n",
       "        text-align: right;\n",
       "    }\n",
       "</style>\n",
       "<table border=\"1\" class=\"dataframe\">\n",
       "  <thead>\n",
       "    <tr style=\"text-align: right;\">\n",
       "      <th></th>\n",
       "      <th>recNum</th>\n",
       "      <th>Channel</th>\n",
       "      <th>Real Time</th>\n",
       "      <th>nsync</th>\n",
       "      <th>dtime</th>\n",
       "    </tr>\n",
       "  </thead>\n",
       "  <tbody>\n",
       "    <tr>\n",
       "      <th>0</th>\n",
       "      <td>2</td>\n",
       "      <td>1</td>\n",
       "      <td>0.0</td>\n",
       "      <td>2068</td>\n",
       "      <td>8</td>\n",
       "    </tr>\n",
       "    <tr>\n",
       "      <th>1</th>\n",
       "      <td>4</td>\n",
       "      <td>1</td>\n",
       "      <td>0.0</td>\n",
       "      <td>3165</td>\n",
       "      <td>8</td>\n",
       "    </tr>\n",
       "    <tr>\n",
       "      <th>2</th>\n",
       "      <td>10</td>\n",
       "      <td>1</td>\n",
       "      <td>0.0</td>\n",
       "      <td>8758</td>\n",
       "      <td>9</td>\n",
       "    </tr>\n",
       "    <tr>\n",
       "      <th>3</th>\n",
       "      <td>13</td>\n",
       "      <td>1</td>\n",
       "      <td>0.0</td>\n",
       "      <td>10496</td>\n",
       "      <td>9</td>\n",
       "    </tr>\n",
       "    <tr>\n",
       "      <th>5</th>\n",
       "      <td>18</td>\n",
       "      <td>1</td>\n",
       "      <td>0.0</td>\n",
       "      <td>13790</td>\n",
       "      <td>9</td>\n",
       "    </tr>\n",
       "  </tbody>\n",
       "</table>\n",
       "</div>"
      ],
      "text/plain": [
       "   recNum  Channel  Real Time  nsync  dtime\n",
       "0       2        1        0.0   2068      8\n",
       "1       4        1        0.0   3165      8\n",
       "2      10        1        0.0   8758      9\n",
       "3      13        1        0.0  10496      9\n",
       "5      18        1        0.0  13790      9"
      ]
     },
     "execution_count": 28,
     "metadata": {},
     "output_type": "execute_result"
    }
   ],
   "source": [
    "ch2df.head()"
   ]
  },
  {
   "cell_type": "code",
   "execution_count": 29,
   "id": "38809e83-36d5-4c8b-be85-a08fb1cc2fd1",
   "metadata": {},
   "outputs": [
    {
     "data": {
      "text/html": [
       "<div>\n",
       "<style scoped>\n",
       "    .dataframe tbody tr th:only-of-type {\n",
       "        vertical-align: middle;\n",
       "    }\n",
       "\n",
       "    .dataframe tbody tr th {\n",
       "        vertical-align: top;\n",
       "    }\n",
       "\n",
       "    .dataframe thead th {\n",
       "        text-align: right;\n",
       "    }\n",
       "</style>\n",
       "<table border=\"1\" class=\"dataframe\">\n",
       "  <thead>\n",
       "    <tr style=\"text-align: right;\">\n",
       "      <th></th>\n",
       "      <th>recNum</th>\n",
       "      <th>Channel</th>\n",
       "      <th>Real Time</th>\n",
       "      <th>nsync</th>\n",
       "      <th>dtime</th>\n",
       "    </tr>\n",
       "  </thead>\n",
       "  <tbody>\n",
       "    <tr>\n",
       "      <th>4</th>\n",
       "      <td>15</td>\n",
       "      <td>2</td>\n",
       "      <td>0.0</td>\n",
       "      <td>12287</td>\n",
       "      <td>16</td>\n",
       "    </tr>\n",
       "    <tr>\n",
       "      <th>6</th>\n",
       "      <td>22</td>\n",
       "      <td>2</td>\n",
       "      <td>0.0</td>\n",
       "      <td>17013</td>\n",
       "      <td>9</td>\n",
       "    </tr>\n",
       "    <tr>\n",
       "      <th>10</th>\n",
       "      <td>38</td>\n",
       "      <td>2</td>\n",
       "      <td>0.0</td>\n",
       "      <td>28803</td>\n",
       "      <td>17</td>\n",
       "    </tr>\n",
       "    <tr>\n",
       "      <th>13</th>\n",
       "      <td>48</td>\n",
       "      <td>2</td>\n",
       "      <td>0.0</td>\n",
       "      <td>36624</td>\n",
       "      <td>17</td>\n",
       "    </tr>\n",
       "    <tr>\n",
       "      <th>20</th>\n",
       "      <td>67</td>\n",
       "      <td>2</td>\n",
       "      <td>0.0</td>\n",
       "      <td>48938</td>\n",
       "      <td>17</td>\n",
       "    </tr>\n",
       "  </tbody>\n",
       "</table>\n",
       "</div>"
      ],
      "text/plain": [
       "    recNum  Channel  Real Time  nsync  dtime\n",
       "4       15        2        0.0  12287     16\n",
       "6       22        2        0.0  17013      9\n",
       "10      38        2        0.0  28803     17\n",
       "13      48        2        0.0  36624     17\n",
       "20      67        2        0.0  48938     17"
      ]
     },
     "execution_count": 29,
     "metadata": {},
     "output_type": "execute_result"
    }
   ],
   "source": [
    "ch3df.head()"
   ]
  },
  {
   "cell_type": "code",
   "execution_count": 30,
   "id": "26f0d579-e35d-4651-b3b7-c19b8c8835d9",
   "metadata": {
    "tags": []
   },
   "outputs": [],
   "source": [
    "def func(syncdf, df, trgdel = 13*(10**-9), res = 10**-11):\n",
    "    import sys\n",
    "    s = sys.stdout\n",
    "    chpos= 0\n",
    "    val = []\n",
    "    for i in range(len(syncdf)-1):\n",
    "        # s.write('\\rProgress: %.1f%%' % round(i/(len(syncdf)-1)*100,1))\n",
    "        sync0_i = syncdf.nsync.iloc[i]\n",
    "        sync0_f = syncdf.nsync.iloc[i+1]\n",
    "        dtime0 = syncdf.dtime.iloc[i]\n",
    "        try:\n",
    "            dtime1 = df.dtime.iloc[chpos]\n",
    "            sync1 = df.nsync.iloc[chpos]\n",
    "            while sync1<sync0_i:\n",
    "                chpos+=1\n",
    "                sync1 = df.nsync.iloc[chpos]\n",
    "            if sync1<sync0_f:\n",
    "                # val.append((sync1 - sync0_i)*trgdel + (dtime0-dtime1)*res)\n",
    "                val.append(sync1 - sync0_i)\n",
    "                chpos += 1\n",
    "                # s.flush()\n",
    "            else:\n",
    "                # s.flush()\n",
    "                continue\n",
    "                    \n",
    "        except:\n",
    "            return val\n",
    "    return val"
   ]
  },
  {
   "cell_type": "code",
   "execution_count": 31,
   "id": "13709aca-2bbe-458b-b229-ddbea36213b0",
   "metadata": {},
   "outputs": [],
   "source": [
    "vals21 = func(ch2df, ch1df)"
   ]
  },
  {
   "cell_type": "code",
   "execution_count": 32,
   "id": "483f2496-f4a5-43f7-ae49-a2c9f828d1f8",
   "metadata": {},
   "outputs": [],
   "source": [
    "vals23 = func(ch2df, ch3df)"
   ]
  },
  {
   "cell_type": "code",
   "execution_count": 60,
   "id": "effd0ce5-22a6-4de8-96a2-ec28714262fd",
   "metadata": {},
   "outputs": [
    {
     "data": {
      "text/plain": [
       "(array([9914., 9213., 9123., 8970., 8763., 8791., 8645., 8653., 8264.,\n",
       "        8340., 8090., 7856., 7938., 7892., 7609., 7309., 7177., 7274.,\n",
       "        6990., 7049., 6745., 6632., 6652., 6699., 6430., 6211., 6287.,\n",
       "        5966., 6024., 5617., 5864., 5732., 5611., 5543., 5398., 5251.,\n",
       "        5285., 5268., 5189., 4888., 4959., 4782., 4803., 4725., 4622.,\n",
       "        4494., 4376., 4373., 4248., 4217., 4203., 4104., 4021., 3892.,\n",
       "        3937., 3661., 3836., 3639., 3643., 3581., 3647., 3324., 3379.,\n",
       "        3436., 3356., 3228., 3185., 3149., 3049., 2977., 2992., 2946.,\n",
       "        2912., 2929., 2711., 2750., 2712., 2629., 2641., 2612., 2573.,\n",
       "        2513., 2470., 2465., 2508., 2335., 2268., 2264., 2199., 2181.,\n",
       "        2195., 2192., 2026., 2045., 2001., 2011., 1917., 1944., 1918.,\n",
       "        1897., 1904., 1859., 1826., 1714., 1774., 1702., 1657., 1599.,\n",
       "        1622., 1550., 1610., 1504., 1514., 1422., 1429., 1440., 1407.,\n",
       "        1277., 1328., 1396., 1263., 1301., 1290., 1212., 1222., 1221.,\n",
       "        1141., 1200., 1121., 1132., 1145., 1086., 1075., 1080., 1048.,\n",
       "         980., 1005.,  901.,  970.,  933.,  947.,  952.,  948.,  843.,\n",
       "         913.,  899.,  867.,  822.,  854.,  835.,  815.,  828.,  738.,\n",
       "         802.,  759.,  749.,  709.,  668.,  742.,  742.,  764.,  640.,\n",
       "         644.,  650.,  652.,  640.,  596.,  590.,  625.,  569.,  551.,\n",
       "         572.,  599.,  566.,  530.,  528.,  504.,  561.,  477.,  506.,\n",
       "         529.,  456.,  465.,  485.,  432.,  453.,  481.,  419.,  420.,\n",
       "         444.,  382.,  433.,  424.,  398.,  408.,  385.,  364.,  354.,\n",
       "         394.,  356.]),\n",
       " array([    0.,    50.,   100.,   150.,   200.,   250.,   300.,   350.,\n",
       "          400.,   450.,   500.,   550.,   600.,   650.,   700.,   750.,\n",
       "          800.,   850.,   900.,   950.,  1000.,  1050.,  1100.,  1150.,\n",
       "         1200.,  1250.,  1300.,  1350.,  1400.,  1450.,  1500.,  1550.,\n",
       "         1600.,  1650.,  1700.,  1750.,  1800.,  1850.,  1900.,  1950.,\n",
       "         2000.,  2050.,  2100.,  2150.,  2200.,  2250.,  2300.,  2350.,\n",
       "         2400.,  2450.,  2500.,  2550.,  2600.,  2650.,  2700.,  2750.,\n",
       "         2800.,  2850.,  2900.,  2950.,  3000.,  3050.,  3100.,  3150.,\n",
       "         3200.,  3250.,  3300.,  3350.,  3400.,  3450.,  3500.,  3550.,\n",
       "         3600.,  3650.,  3700.,  3750.,  3800.,  3850.,  3900.,  3950.,\n",
       "         4000.,  4050.,  4100.,  4150.,  4200.,  4250.,  4300.,  4350.,\n",
       "         4400.,  4450.,  4500.,  4550.,  4600.,  4650.,  4700.,  4750.,\n",
       "         4800.,  4850.,  4900.,  4950.,  5000.,  5050.,  5100.,  5150.,\n",
       "         5200.,  5250.,  5300.,  5350.,  5400.,  5450.,  5500.,  5550.,\n",
       "         5600.,  5650.,  5700.,  5750.,  5800.,  5850.,  5900.,  5950.,\n",
       "         6000.,  6050.,  6100.,  6150.,  6200.,  6250.,  6300.,  6350.,\n",
       "         6400.,  6450.,  6500.,  6550.,  6600.,  6650.,  6700.,  6750.,\n",
       "         6800.,  6850.,  6900.,  6950.,  7000.,  7050.,  7100.,  7150.,\n",
       "         7200.,  7250.,  7300.,  7350.,  7400.,  7450.,  7500.,  7550.,\n",
       "         7600.,  7650.,  7700.,  7750.,  7800.,  7850.,  7900.,  7950.,\n",
       "         8000.,  8050.,  8100.,  8150.,  8200.,  8250.,  8300.,  8350.,\n",
       "         8400.,  8450.,  8500.,  8550.,  8600.,  8650.,  8700.,  8750.,\n",
       "         8800.,  8850.,  8900.,  8950.,  9000.,  9050.,  9100.,  9150.,\n",
       "         9200.,  9250.,  9300.,  9350.,  9400.,  9450.,  9500.,  9550.,\n",
       "         9600.,  9650.,  9700.,  9750.,  9800.,  9850.,  9900.,  9950.,\n",
       "        10000.]),\n",
       " <BarContainer object of 200 artists>)"
      ]
     },
     "execution_count": 60,
     "metadata": {},
     "output_type": "execute_result"
    },
    {
     "data": {
      "image/png": "[encoded data removed]",
      "text/plain": [
       "<Figure size 432x288 with 1 Axes>"
      ]
     },
     "metadata": {
      "needs_background": "light"
     },
     "output_type": "display_data"
    }
   ],
   "source": [
    "plt.hist(vals21,bins=200, range=(0,10000))"
   ]
  },
  {
   "cell_type": "code",
   "execution_count": null,
   "id": "7baffdf5-e1e8-4949-8d94-9e75d8d9904f",
   "metadata": {},
   "outputs": [],
   "source": []
  }
 ],
 "metadata": {
  "kernelspec": {
   "display_name": "Python 3 (ipykernel)",
   "language": "python",
   "name": "python3"
  },
  "language_info": {
   "codemirror_mode": {
    "name": "ipython",
    "version": 3
   },
   "file_extension": ".py",
   "mimetype": "text/x-python",
   "name": "python",
   "nbconvert_exporter": "python",
   "pygments_lexer": "ipython3",
   "version": "3.9.9"
  }
 },
 "nbformat": 4,
 "nbformat_minor": 5
}
